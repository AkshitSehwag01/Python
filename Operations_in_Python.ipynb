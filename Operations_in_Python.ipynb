{
  "nbformat": 4,
  "nbformat_minor": 0,
  "metadata": {
    "colab": {
      "provenance": []
    },
    "kernelspec": {
      "name": "python3",
      "display_name": "Python 3"
    },
    "language_info": {
      "name": "python"
    }
  },
  "cells": [
    {
      "cell_type": "markdown",
      "source": [
        "### 1.Operations"
      ],
      "metadata": {
        "id": "xpeYrKF1O_5x"
      }
    },
    {
      "cell_type": "markdown",
      "source": [
        "#### 1.1.Concatenation"
      ],
      "metadata": {
        "id": "TdG29f1dPMna"
      }
    },
    {
      "cell_type": "code",
      "source": [
        "print('Akshit' + ' ' +  'Sehwag')"
      ],
      "metadata": {
        "colab": {
          "base_uri": "https://localhost:8080/"
        },
        "id": "TD6ccjhVPKVx",
        "outputId": "1c02084e-9c6d-4777-fc90-1cf5d2056282"
      },
      "execution_count": null,
      "outputs": [
        {
          "output_type": "stream",
          "name": "stdout",
          "text": [
            "Akshit Sehwag\n"
          ]
        }
      ]
    },
    {
      "cell_type": "markdown",
      "source": [
        "#### 1.2.Replication"
      ],
      "metadata": {
        "id": "ctnG735aPz0X"
      }
    },
    {
      "cell_type": "code",
      "source": [
        "print('Akshit'*3)"
      ],
      "metadata": {
        "colab": {
          "base_uri": "https://localhost:8080/"
        },
        "id": "xNg-BhIcP4UH",
        "outputId": "481e74f2-e3d1-4481-8dc2-b694320edd13"
      },
      "execution_count": null,
      "outputs": [
        {
          "output_type": "stream",
          "name": "stdout",
          "text": [
            "AkshitAkshitAkshit\n"
          ]
        }
      ]
    },
    {
      "cell_type": "markdown",
      "source": [
        "#### 1.3.String Length"
      ],
      "metadata": {
        "id": "gRCLEmoLT_2C"
      }
    },
    {
      "cell_type": "code",
      "source": [
        "print(len('Akshit Sehwag'))"
      ],
      "metadata": {
        "colab": {
          "base_uri": "https://localhost:8080/"
        },
        "id": "8u_SK23wUEPG",
        "outputId": "8ba5c2e0-8e3e-467c-f94e-4bf930df1989"
      },
      "execution_count": null,
      "outputs": [
        {
          "output_type": "stream",
          "name": "stdout",
          "text": [
            "13\n"
          ]
        }
      ]
    },
    {
      "cell_type": "markdown",
      "source": [
        "#### 1.4.String Slicing"
      ],
      "metadata": {
        "id": "BKawPzbaUPjv"
      }
    },
    {
      "cell_type": "code",
      "source": [
        "print('Akshit Sehwag'[2])\n",
        "print('Akshit Sehwag'[-6])\n",
        "print('Akshit Sehwag'[0:6])\n",
        "print('Akshit Sehwag'[7:13])\n",
        "print('Akshit Sehwag'[3:6])\n",
        "print('Akshit Sehwag'[3:13])\n",
        "print('Akshit Sehwag'[3:])\n",
        "print('Akshit Sehwag'[:7])\n",
        "print('Akshit Sehwag'[0:7])\n",
        "print('Akshit Sehwag'[-5:])\n",
        "\n"
      ],
      "metadata": {
        "colab": {
          "base_uri": "https://localhost:8080/"
        },
        "id": "hYqRFfmDUU8X",
        "outputId": "801e9652-aa77-460f-f18b-cb66a8719ab1"
      },
      "execution_count": null,
      "outputs": [
        {
          "output_type": "stream",
          "name": "stdout",
          "text": [
            "s\n",
            "S\n",
            "Akshit\n",
            "Sehwag\n",
            "hit\n",
            "hit Sehwag\n",
            "hit Sehwag\n",
            "Akshit \n",
            "Akshit \n",
            "ehwag\n"
          ]
        }
      ]
    },
    {
      "cell_type": "markdown",
      "source": [
        "#### 1.5.String Case Conversion"
      ],
      "metadata": {
        "id": "qTv_tlweVdOe"
      }
    },
    {
      "cell_type": "code",
      "source": [
        "print('Akshit Sehwag'.upper())\n",
        "print('Akshit Sehwag'.lower())\n",
        "print('akshit sehwag'.title())\n"
      ],
      "metadata": {
        "colab": {
          "base_uri": "https://localhost:8080/"
        },
        "id": "lKSn80C0Viwd",
        "outputId": "2af990d3-d35d-457c-9943-a4515ef79817"
      },
      "execution_count": null,
      "outputs": [
        {
          "output_type": "stream",
          "name": "stdout",
          "text": [
            "AKSHIT SEHWAG\n",
            "akshit sehwag\n",
            "Akshit Sehwag\n"
          ]
        }
      ]
    },
    {
      "cell_type": "markdown",
      "source": [
        "#### 1.6.String Stripping"
      ],
      "metadata": {
        "id": "oxa-E_u_VpJO"
      }
    },
    {
      "cell_type": "code",
      "source": [
        "print('          Akshit Sehwag'.strip())\n",
        "print('Akshit Sehwag        '.strip())\n",
        "print('    Akshit Sehwag     '.lstrip())\n",
        "print('Akshit Sehwag'.rstrip())\n",
        "\n",
        "\n"
      ],
      "metadata": {
        "colab": {
          "base_uri": "https://localhost:8080/"
        },
        "id": "qpI2wPBuVuKw",
        "outputId": "4183a5d5-9a52-4623-c53e-cd91356aee2a"
      },
      "execution_count": null,
      "outputs": [
        {
          "output_type": "stream",
          "name": "stdout",
          "text": [
            "Akshit Sehwag\n",
            "Akshit Sehwag\n",
            "Akshit Sehwag     \n",
            "Akshit Sehwag\n"
          ]
        }
      ]
    },
    {
      "cell_type": "markdown",
      "source": [
        "#### 1.7.String Replacing"
      ],
      "metadata": {
        "id": "My9dmCP6Wkeq"
      }
    },
    {
      "cell_type": "code",
      "source": [
        "print('Akshit Sehwag'.replace('Akshit', 'Rohit'))\n",
        "print('Akshit Sehwag'.replace('s','*'))\n",
        "\n"
      ],
      "metadata": {
        "colab": {
          "base_uri": "https://localhost:8080/"
        },
        "id": "YQRCNaJqWrWC",
        "outputId": "34b9206d-f9fc-4d60-ef4d-cb88dabdc1b4"
      },
      "execution_count": null,
      "outputs": [
        {
          "output_type": "stream",
          "name": "stdout",
          "text": [
            "Rohit Sehwag\n",
            "Ak*hit Sehwag\n"
          ]
        }
      ]
    },
    {
      "cell_type": "markdown",
      "source": [
        "#### 1.8.String Count"
      ],
      "metadata": {
        "id": "Tnr8nCQoW9ls"
      }
    },
    {
      "cell_type": "code",
      "source": [
        "print('Akshit Sehwag'.count('a'))\n",
        "print('Akshit Sehwag'.count('s'))\n",
        "print('Akshit Sehwag'.count('z'))\n",
        "print('Akshit Sehwag'.lower().count('a'))\n"
      ],
      "metadata": {
        "colab": {
          "base_uri": "https://localhost:8080/"
        },
        "id": "raPrJE-_XA5q",
        "outputId": "d4991fde-36eb-4c7c-db7e-a899661be602"
      },
      "execution_count": null,
      "outputs": [
        {
          "output_type": "stream",
          "name": "stdout",
          "text": [
            "1\n",
            "1\n",
            "0\n",
            "2\n"
          ]
        }
      ]
    },
    {
      "cell_type": "markdown",
      "source": [
        "#### 1.9.String Find"
      ],
      "metadata": {
        "id": "qAOpWcjBXT0o"
      }
    },
    {
      "cell_type": "code",
      "source": [
        "print('Akshit Sehwag'.find('a'))\n",
        "print('Akshit Sehwag'.find('shi'))\n",
        "print('Akshit Sehwag'.find('wa'))\n"
      ],
      "metadata": {
        "colab": {
          "base_uri": "https://localhost:8080/"
        },
        "id": "zugAmW_iXYkl",
        "outputId": "155bd400-7b0e-4dc5-b6cd-e8aa4aafdbcd"
      },
      "execution_count": null,
      "outputs": [
        {
          "output_type": "stream",
          "name": "stdout",
          "text": [
            "11\n",
            "2\n",
            "10\n"
          ]
        }
      ]
    },
    {
      "cell_type": "markdown",
      "source": [
        "#### 1.10.String Check"
      ],
      "metadata": {
        "id": "0Vs2aXZlXt-F"
      }
    },
    {
      "cell_type": "code",
      "source": [
        "print('Akshit Sehwag'.isalpha())\n",
        "print('AkshitSehwag'.isalpha())\n",
        "print('123456'.isdigit())\n",
        "print('akshit'.islower())\n",
        "print('AKSHIT'.isupper())\n",
        "print('Akshit Sehwag'.istitle())"
      ],
      "metadata": {
        "colab": {
          "base_uri": "https://localhost:8080/"
        },
        "id": "ugYDhBdMXx2B",
        "outputId": "0118182e-134b-49cb-845e-f3aa194c3301"
      },
      "execution_count": null,
      "outputs": [
        {
          "output_type": "stream",
          "name": "stdout",
          "text": [
            "False\n",
            "True\n",
            "True\n",
            "True\n",
            "True\n",
            "True\n"
          ]
        }
      ]
    },
    {
      "cell_type": "markdown",
      "source": [
        "#### 1.11.String Capitalization"
      ],
      "metadata": {
        "id": "1h61RsB7YWsG"
      }
    },
    {
      "cell_type": "code",
      "source": [
        "print('akshit sehwag'.capitalize())\n",
        "print('akshit sehwag'.title())"
      ],
      "metadata": {
        "colab": {
          "base_uri": "https://localhost:8080/"
        },
        "id": "ozaV9sy_Yb_y",
        "outputId": "80779278-aec0-4162-d9cf-505449a23c15"
      },
      "execution_count": null,
      "outputs": [
        {
          "output_type": "stream",
          "name": "stdout",
          "text": [
            "Akshit sehwag\n",
            "Akshit Sehwag\n"
          ]
        }
      ]
    },
    {
      "cell_type": "markdown",
      "source": [
        "#### 1.12.Check for start and end"
      ],
      "metadata": {
        "id": "-rMHUwIjY0_S"
      }
    },
    {
      "cell_type": "code",
      "source": [
        "print('Akshit Sehwag'.startswith('Aks'))\n",
        "print('Akshit Sehwag'.endswith('ag'))\n",
        "print('Akshit Sehwag'.endswith('ak'))\n",
        "print('Akshit Sehwag'.startswith('ak'))\n"
      ],
      "metadata": {
        "colab": {
          "base_uri": "https://localhost:8080/"
        },
        "id": "12Q9UUedY7u7",
        "outputId": "6e77212c-af01-4d74-9b59-e79e1268c51e"
      },
      "execution_count": null,
      "outputs": [
        {
          "output_type": "stream",
          "name": "stdout",
          "text": [
            "True\n",
            "True\n",
            "False\n",
            "False\n"
          ]
        }
      ]
    },
    {
      "cell_type": "markdown",
      "source": [
        "#### 1.13.Adjust text or string"
      ],
      "metadata": {
        "id": "4tS8iXnKZKBz"
      }
    },
    {
      "cell_type": "code",
      "source": [
        "print('Akshit Sehwag'.center(20,'*'))\n",
        "print('Akshit Sehwag'.ljust(20,'*'))\n",
        "print('Akshit Sehwag'.rjust(20,'*'))\n",
        "print('Akshit Sehwag'.center(20,' '))\n",
        "print('Akshit Sehwag'.ljust(20,' '))\n",
        "print('Akshit Sehwag'.rjust(20,' '))\n"
      ],
      "metadata": {
        "colab": {
          "base_uri": "https://localhost:8080/"
        },
        "id": "tMiWOfnvZVoO",
        "outputId": "83b2e9eb-a76a-4ace-9fac-f10cb1566365"
      },
      "execution_count": null,
      "outputs": [
        {
          "output_type": "stream",
          "name": "stdout",
          "text": [
            "***Akshit Sehwag****\n",
            "Akshit Sehwag*******\n",
            "*******Akshit Sehwag\n",
            "   Akshit Sehwag    \n",
            "Akshit Sehwag       \n",
            "       Akshit Sehwag\n"
          ]
        }
      ]
    },
    {
      "cell_type": "markdown",
      "source": [
        "Python Banking Program"
      ],
      "metadata": {
        "id": "MYbiivPBueXe"
      }
    },
    {
      "cell_type": "code",
      "source": [
        "def show_balance(balance):\n",
        "    print(\"*********************\")\n",
        "    print(f\"Your balance is ${balance:.2f}\")\n",
        "    print(\"*********************\")\n",
        "\n",
        "def deposit():\n",
        "    print(\"*********************\")\n",
        "    amount = float(input(\"Enter an amount to be deposited: \"))\n",
        "    print(\"*********************\")\n",
        "    if amount < 0:\n",
        "        print(\"*********************\")\n",
        "        print(\"That's not a valid amount\")\n",
        "        print(\"*********************\")\n",
        "        return 0\n",
        "    else:\n",
        "        return amount\n",
        "\n",
        "def withdraw(balance):\n",
        "    print(\"*********************\")\n",
        "    amount = float(input(\"Enter amount to be withdrawn: \"))\n",
        "    print(\"*********************\")\n",
        "\n",
        "    if amount > balance:\n",
        "        print(\"*********************\")\n",
        "        print(\"Insufficient funds\")\n",
        "        print(\"*********************\")\n",
        "        return 0\n",
        "    elif amount < 0:\n",
        "        print(\"*********************\")\n",
        "        print(\"Amount must be greater than 0\")\n",
        "        print(\"*********************\")\n",
        "        return 0\n",
        "    else:\n",
        "        return amount\n",
        "\n",
        "def main():\n",
        "    balance = 0\n",
        "    is_running = True\n",
        "\n",
        "    while is_running:\n",
        "        print(\"*********************\")\n",
        "        print(\"   Banking Program   \")\n",
        "        print(\"*********************\")\n",
        "        print(\"1.Show Balance\")\n",
        "        print(\"2.Deposit\")\n",
        "        print(\"3.Withdraw\")\n",
        "        print(\"4.Exit\")\n",
        "        print(\"*********************\")\n",
        "        choice = input(\"Enter your choice (1-4): \")\n",
        "\n",
        "        if choice == '1':\n",
        "            show_balance(balance)\n",
        "        elif choice == '2':\n",
        "            balance += deposit()\n",
        "        elif choice == '3':\n",
        "            balance -= withdraw(balance)\n",
        "        elif choice == '4':\n",
        "            is_running = False\n",
        "        else:\n",
        "            print(\"*********************\")\n",
        "            print(\"That is not a valid choice\")\n",
        "            print(\"*********************\")\n",
        "\n",
        "    print(\"*********************\")\n",
        "    print(\"Thank you! Have a nice day!\")\n",
        "    print(\"*********************\")\n",
        "\n",
        "if __name__ == '__main__':\n",
        "    main()"
      ],
      "metadata": {
        "colab": {
          "base_uri": "https://localhost:8080/"
        },
        "id": "tDhRLQE3uSAi",
        "outputId": "68ee9128-4732-48f0-fa4c-c6da6f4b89f3"
      },
      "execution_count": null,
      "outputs": [
        {
          "output_type": "stream",
          "name": "stdout",
          "text": [
            "*********************\n",
            "   Banking Program   \n",
            "*********************\n",
            "1.Show Balance\n",
            "2.Deposit\n",
            "3.Withdraw\n",
            "4.Exit\n",
            "*********************\n",
            "Enter your choice (1-4): 1\n",
            "*********************\n",
            "Your balance is $0.00\n",
            "*********************\n",
            "*********************\n",
            "   Banking Program   \n",
            "*********************\n",
            "1.Show Balance\n",
            "2.Deposit\n",
            "3.Withdraw\n",
            "4.Exit\n",
            "*********************\n",
            "Enter your choice (1-4): 2\n",
            "*********************\n",
            "Enter an amount to be deposited: 10000\n",
            "*********************\n",
            "*********************\n",
            "   Banking Program   \n",
            "*********************\n",
            "1.Show Balance\n",
            "2.Deposit\n",
            "3.Withdraw\n",
            "4.Exit\n",
            "*********************\n",
            "Enter your choice (1-4): 1\n",
            "*********************\n",
            "Your balance is $10000.00\n",
            "*********************\n",
            "*********************\n",
            "   Banking Program   \n",
            "*********************\n",
            "1.Show Balance\n",
            "2.Deposit\n",
            "3.Withdraw\n",
            "4.Exit\n",
            "*********************\n",
            "Enter your choice (1-4): 4\n",
            "*********************\n",
            "Thank you! Have a nice day!\n",
            "*********************\n"
          ]
        }
      ]
    },
    {
      "cell_type": "code",
      "source": [
        "s = input('Enter a string: ')\n",
        "\n",
        "\n",
        "# given input string\n",
        " # For storing odd characters\n",
        "\n",
        "for i in range(len(s)):\n",
        "\tif i % 2 == 0: # check if the index is even\n",
        "\t\tprint(s[i], end='')\n",
        "\n"
      ],
      "metadata": {
        "colab": {
          "base_uri": "https://localhost:8080/"
        },
        "id": "TAS3ctPbvWB9",
        "outputId": "bdf9070d-5241-45fa-c56c-44c38c8ca9fd"
      },
      "execution_count": null,
      "outputs": [
        {
          "output_type": "stream",
          "name": "stdout",
          "text": [
            "Enter a string: Geeks\n",
            "Ges"
          ]
        }
      ]
    },
    {
      "cell_type": "markdown",
      "source": [
        "the task is to print number from x to 0 in decresing order in one line"
      ],
      "metadata": {
        "id": "nJ4tUayq3uY6"
      }
    },
    {
      "cell_type": "code",
      "source": [
        "x = int(input(\"Enter your number: \"))\n",
        "for i in range(x, -1, -1):\n",
        "    print(i, end=' ')"
      ],
      "metadata": {
        "colab": {
          "base_uri": "https://localhost:8080/"
        },
        "id": "LfFp0_5N31rB",
        "outputId": "b4d387f2-6eac-4e31-9336-f5b3e6066b33"
      },
      "execution_count": null,
      "outputs": [
        {
          "output_type": "stream",
          "name": "stdout",
          "text": [
            "Enter your number: 10\n",
            "10 9 8 7 6 5 4 3 2 1 0 "
          ]
        }
      ]
    }
  ]
}
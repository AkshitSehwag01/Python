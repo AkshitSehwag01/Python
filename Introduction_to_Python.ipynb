{
  "nbformat": 4,
  "nbformat_minor": 0,
  "metadata": {
    "colab": {
      "provenance": []
    },
    "kernelspec": {
      "name": "python3",
      "display_name": "Python 3"
    },
    "language_info": {
      "name": "python"
    }
  },
  "cells": [
    {
      "cell_type": "markdown",
      "source": [
        "1.Print"
      ],
      "metadata": {
        "id": "Gk1FN_8_Zgjf"
      }
    },
    {
      "cell_type": "code",
      "source": [
        "age = 35\n",
        "print(age%5 == 0 and age%7 == 0) # divisible by 5 and 7\n",
        "print(age%5 == 0 or age%7 == 0) #divisible by 5 or 7\n",
        "print((age%5 == 0) and (age%7 == 0) and (age%9 != 0)) # not divisible by 9\n",
        "print(((age%5 == 0) and (age%7 == 0) and (age%9 != 0)) and (age%2 == 0 )) #even"
      ],
      "metadata": {
        "colab": {
          "base_uri": "https://localhost:8080/"
        },
        "id": "Ol-o6tn8Zd3u",
        "outputId": "86031db2-f983-4226-fe4a-b28dc3078487"
      },
      "execution_count": null,
      "outputs": [
        {
          "output_type": "stream",
          "name": "stdout",
          "text": [
            "True\n",
            "True\n",
            "True\n",
            "False\n"
          ]
        }
      ]
    },
    {
      "cell_type": "markdown",
      "source": [
        "even or odd"
      ],
      "metadata": {
        "id": "U7mbqP-eeobI"
      }
    },
    {
      "cell_type": "code",
      "source": [
        "# Program to check if a number is even or odd\n",
        "\n",
        "num = int(input(\"Enter a number: \"))\n",
        "\n",
        "if num % 2 == 0:\n",
        "    print(f\"{num} is Even.\")\n",
        "else:\n",
        "    print(f\"{num} is Odd.\")\n"
      ],
      "metadata": {
        "id": "65nZeP6Wjd6L",
        "colab": {
          "base_uri": "https://localhost:8080/"
        },
        "outputId": "7cba2886-ef5f-4249-84bb-c1e3fe5202c8"
      },
      "execution_count": null,
      "outputs": [
        {
          "output_type": "stream",
          "name": "stdout",
          "text": [
            "Enter a number: 25\n",
            "25 is Odd.\n"
          ]
        }
      ]
    },
    {
      "cell_type": "code",
      "source": [
        "\n",
        "num = int(input(\"Enter a number: \"))\n",
        "\n",
        "\n",
        "if num >= 0 and num <= 100:\n",
        "    print(\"The number is within the range (0-100).\")\n",
        "\n",
        "\n",
        "    if (num % 5 == 0 and num % 7 == 0) and not (num % 9 == 0):\n",
        "        print(\"The number is divisible by 5 and 7 but not by 9.\")\n",
        "    else:\n",
        "        print(\"The number does NOT meet the divisibility conditions.\")\n",
        "else:\n",
        "    print(\"The number is OUT of the range (0-100).\")\n",
        "\n"
      ],
      "metadata": {
        "colab": {
          "base_uri": "https://localhost:8080/"
        },
        "id": "tn-BYR8OfWhI",
        "outputId": "2851cdf9-ccd9-4561-860a-1ac7a85ea7bf"
      },
      "execution_count": null,
      "outputs": [
        {
          "output_type": "stream",
          "name": "stdout",
          "text": [
            "Enter a number: 35\n",
            "The number is within the range (0-100).\n",
            "The number is divisible by 5 and 7 but not by 9.\n"
          ]
        }
      ]
    },
    {
      "cell_type": "code",
      "source": [
        "\n",
        "num = int(input(\"Enter a number: \"))\n",
        "\n",
        "if 0 <= num <= 100:\n",
        "\n",
        "\n",
        "    if (num % 5 == 0) and (num % 7 != 0) and (num % 9 != 0):\n",
        "        print(\"5-5: Divisible by 5 but NOT by 7 and 9.\")\n",
        "\n",
        "    elif (num % 7 == 0) and (num % 5 != 0) and (num % 9 != 0):\n",
        "        print(\"7-7: Divisible by 7 but NOT by 5 and 9.\")\n",
        "\n",
        "    elif (num % 9 == 0) and (num % 5 != 0) and (num % 7 != 0):\n",
        "        print(\"9-9: Divisible by 9 but NOT by 5 and 7.\")\n",
        "\n",
        "    elif (num % 5 == 0) and (num % 7 == 0) and (num % 9 != 0):\n",
        "        print(\"(5,7): Divisible by 5 and 7 but NOT by 9.\")\n",
        "\n",
        "    elif (num % 5 == 0) and (num % 9 == 0) and (num % 7 != 0):\n",
        "        print(\"(5,9): Divisible by 5 and 9 but NOT by 7.\")\n",
        "\n",
        "    elif (num % 7 == 0) and (num % 9 == 0) and (num % 5 != 0):\n",
        "        print(\"(7,9): Divisible by 7 and 9 but NOT by 5.\")\n",
        "\n",
        "    else:\n",
        "        print(\"The number does not meet any condition.\")\n",
        "\n",
        "else:\n",
        "    print(\"The number is OUT of the range (0-100).\")\n"
      ],
      "metadata": {
        "colab": {
          "base_uri": "https://localhost:8080/"
        },
        "id": "_w2__LlGoSqR",
        "outputId": "fd0b7638-5de3-49fa-dfff-a199f0ba7405"
      },
      "execution_count": null,
      "outputs": [
        {
          "output_type": "stream",
          "name": "stdout",
          "text": [
            "Enter a number: 101\n",
            "The number is OUT of the range (0-100).\n"
          ]
        }
      ]
    },
    {
      "cell_type": "code",
      "source": [
        "n = 19\n",
        "for i in range(n,n*10+1,n):\n",
        "  print (i)\n"
      ],
      "metadata": {
        "colab": {
          "base_uri": "https://localhost:8080/"
        },
        "id": "LPD0frOLU9zG",
        "outputId": "bf50786c-5913-459e-dcbe-b4f39e0c274a"
      },
      "execution_count": null,
      "outputs": [
        {
          "output_type": "stream",
          "name": "stdout",
          "text": [
            "19\n",
            "38\n",
            "57\n",
            "76\n",
            "95\n",
            "114\n",
            "133\n",
            "152\n",
            "171\n",
            "190\n"
          ]
        }
      ]
    },
    {
      "cell_type": "code",
      "source": [
        "n = 5\n",
        "for i in range(11,1,-1):\n",
        "  print (i*n)\n"
      ],
      "metadata": {
        "colab": {
          "base_uri": "https://localhost:8080/"
        },
        "id": "RKIbRwo2bPcY",
        "outputId": "6f3f977f-e06b-4bf8-fdf1-03e2746837a6"
      },
      "execution_count": null,
      "outputs": [
        {
          "output_type": "stream",
          "name": "stdout",
          "text": [
            "55\n",
            "50\n",
            "45\n",
            "40\n",
            "35\n",
            "30\n",
            "25\n",
            "20\n",
            "15\n",
            "10\n"
          ]
        }
      ]
    },
    {
      "cell_type": "code",
      "source": [
        "n = 19\n",
        "for i in range(n*10,n-1,-1):\n",
        "  print (i)\n"
      ],
      "metadata": {
        "colab": {
          "base_uri": "https://localhost:8080/"
        },
        "id": "TrPstMCYbksk",
        "outputId": "a307a210-0a4b-48cc-9de3-52ac60828d41"
      },
      "execution_count": null,
      "outputs": [
        {
          "output_type": "stream",
          "name": "stdout",
          "text": [
            "190\n",
            "189\n",
            "188\n",
            "187\n",
            "186\n",
            "185\n",
            "184\n",
            "183\n",
            "182\n",
            "181\n",
            "180\n",
            "179\n",
            "178\n",
            "177\n",
            "176\n",
            "175\n",
            "174\n",
            "173\n",
            "172\n",
            "171\n",
            "170\n",
            "169\n",
            "168\n",
            "167\n",
            "166\n",
            "165\n",
            "164\n",
            "163\n",
            "162\n",
            "161\n",
            "160\n",
            "159\n",
            "158\n",
            "157\n",
            "156\n",
            "155\n",
            "154\n",
            "153\n",
            "152\n",
            "151\n",
            "150\n",
            "149\n",
            "148\n",
            "147\n",
            "146\n",
            "145\n",
            "144\n",
            "143\n",
            "142\n",
            "141\n",
            "140\n",
            "139\n",
            "138\n",
            "137\n",
            "136\n",
            "135\n",
            "134\n",
            "133\n",
            "132\n",
            "131\n",
            "130\n",
            "129\n",
            "128\n",
            "127\n",
            "126\n",
            "125\n",
            "124\n",
            "123\n",
            "122\n",
            "121\n",
            "120\n",
            "119\n",
            "118\n",
            "117\n",
            "116\n",
            "115\n",
            "114\n",
            "113\n",
            "112\n",
            "111\n",
            "110\n",
            "109\n",
            "108\n",
            "107\n",
            "106\n",
            "105\n",
            "104\n",
            "103\n",
            "102\n",
            "101\n",
            "100\n",
            "99\n",
            "98\n",
            "97\n",
            "96\n",
            "95\n",
            "94\n",
            "93\n",
            "92\n",
            "91\n",
            "90\n",
            "89\n",
            "88\n",
            "87\n",
            "86\n",
            "85\n",
            "84\n",
            "83\n",
            "82\n",
            "81\n",
            "80\n",
            "79\n",
            "78\n",
            "77\n",
            "76\n",
            "75\n",
            "74\n",
            "73\n",
            "72\n",
            "71\n",
            "70\n",
            "69\n",
            "68\n",
            "67\n",
            "66\n",
            "65\n",
            "64\n",
            "63\n",
            "62\n",
            "61\n",
            "60\n",
            "59\n",
            "58\n",
            "57\n",
            "56\n",
            "55\n",
            "54\n",
            "53\n",
            "52\n",
            "51\n",
            "50\n",
            "49\n",
            "48\n",
            "47\n",
            "46\n",
            "45\n",
            "44\n",
            "43\n",
            "42\n",
            "41\n",
            "40\n",
            "39\n",
            "38\n",
            "37\n",
            "36\n",
            "35\n",
            "34\n",
            "33\n",
            "32\n",
            "31\n",
            "30\n",
            "29\n",
            "28\n",
            "27\n",
            "26\n",
            "25\n",
            "24\n",
            "23\n",
            "22\n",
            "21\n",
            "20\n",
            "19\n"
          ]
        }
      ]
    },
    {
      "cell_type": "markdown",
      "source": [
        "find number between 1-100 which is divisible by 5 and 7"
      ],
      "metadata": {
        "id": "nkVyJsCgc3ca"
      }
    },
    {
      "cell_type": "code",
      "source": [
        "\n",
        "for i in range(1,100):\n",
        "  if(i%5==0 and i%7==0):\n",
        "    print (i)"
      ],
      "metadata": {
        "colab": {
          "base_uri": "https://localhost:8080/"
        },
        "id": "YNOIDCzGc-lI",
        "outputId": "d5d9a844-61ae-4c82-b62c-0536c7245199"
      },
      "execution_count": null,
      "outputs": [
        {
          "output_type": "stream",
          "name": "stdout",
          "text": [
            "35\n",
            "70\n"
          ]
        }
      ]
    },
    {
      "cell_type": "markdown",
      "source": [
        "sum of first 1000 natural numbers"
      ],
      "metadata": {
        "id": "bf1OpkqpdhEG"
      }
    },
    {
      "cell_type": "code",
      "source": [
        "num = 0\n",
        "\n",
        "for i in range(1, 1001):\n",
        "    num += i\n",
        "\n",
        "print(\"Sum of first 1000 natural numbers:\", total)\n"
      ],
      "metadata": {
        "colab": {
          "base_uri": "https://localhost:8080/"
        },
        "id": "RxVoyspodkkD",
        "outputId": "2d3e2e04-d7ac-458b-aeca-53c0a2f066d6"
      },
      "execution_count": null,
      "outputs": [
        {
          "output_type": "stream",
          "name": "stdout",
          "text": [
            "Sum of first 1000 natural numbers: 500500\n"
          ]
        }
      ]
    },
    {
      "cell_type": "code",
      "source": [
        "n = 1000\n",
        "total = n * (n + 1) // 2\n",
        "\n",
        "print(\"Sum of first 1000 natural numbers:\", total)\n"
      ],
      "metadata": {
        "colab": {
          "base_uri": "https://localhost:8080/"
        },
        "id": "CkFZ506lfShm",
        "outputId": "03a17bd9-72d5-4c76-9776-965e2151f1fd"
      },
      "execution_count": null,
      "outputs": [
        {
          "output_type": "stream",
          "name": "stdout",
          "text": [
            "Sum of first 1000 natural numbers: 500500\n"
          ]
        }
      ]
    },
    {
      "cell_type": "code",
      "source": [
        "num = int(input(\"Enter a number: \"))\n",
        "\n",
        "if num <= 1:\n",
        "    print(f\"{num} is not a prime number.\")\n",
        "else:\n",
        "    is_prime = True\n",
        "\n",
        "    # Loop from 2 to square root of num\n",
        "    for i in range(2, int(num ** 0.5) + 1):\n",
        "        if num % i == 0:\n",
        "            is_prime = False\n",
        "            break\n",
        "\n",
        "\n",
        "    if is_prime:\n",
        "        print(f\"{num} is a prime number.\")\n",
        "    else:\n",
        "        print(f\"{num} is not a prime number.\")\n"
      ],
      "metadata": {
        "colab": {
          "base_uri": "https://localhost:8080/"
        },
        "id": "hssANdebhoNC",
        "outputId": "1e3e5eeb-aab3-4019-f57c-52d05b8e3e45"
      },
      "execution_count": null,
      "outputs": [
        {
          "output_type": "stream",
          "name": "stdout",
          "text": [
            "Enter a number: 13827197617\n",
            "13827197617 is not a prime number.\n"
          ]
        }
      ]
    },
    {
      "cell_type": "code",
      "source": [
        "for number in range(1, 1001):\n",
        "    if number > 1:\n",
        "        for i in range(2, int(number**0.5) + 1):\n",
        "            if number % i == 0:\n",
        "                break\n",
        "        else:\n",
        "            print(number)"
      ],
      "metadata": {
        "colab": {
          "base_uri": "https://localhost:8080/"
        },
        "id": "ruNMxJisb4HB",
        "outputId": "2c7cf572-9569-4a69-b003-c143530bfb8d"
      },
      "execution_count": null,
      "outputs": [
        {
          "output_type": "stream",
          "name": "stdout",
          "text": [
            "2\n",
            "3\n",
            "5\n",
            "7\n",
            "11\n",
            "13\n",
            "17\n",
            "19\n",
            "23\n",
            "29\n",
            "31\n",
            "37\n",
            "41\n",
            "43\n",
            "47\n",
            "53\n",
            "59\n",
            "61\n",
            "67\n",
            "71\n",
            "73\n",
            "79\n",
            "83\n",
            "89\n",
            "97\n",
            "101\n",
            "103\n",
            "107\n",
            "109\n",
            "113\n",
            "127\n",
            "131\n",
            "137\n",
            "139\n",
            "149\n",
            "151\n",
            "157\n",
            "163\n",
            "167\n",
            "173\n",
            "179\n",
            "181\n",
            "191\n",
            "193\n",
            "197\n",
            "199\n",
            "211\n",
            "223\n",
            "227\n",
            "229\n",
            "233\n",
            "239\n",
            "241\n",
            "251\n",
            "257\n",
            "263\n",
            "269\n",
            "271\n",
            "277\n",
            "281\n",
            "283\n",
            "293\n",
            "307\n",
            "311\n",
            "313\n",
            "317\n",
            "331\n",
            "337\n",
            "347\n",
            "349\n",
            "353\n",
            "359\n",
            "367\n",
            "373\n",
            "379\n",
            "383\n",
            "389\n",
            "397\n",
            "401\n",
            "409\n",
            "419\n",
            "421\n",
            "431\n",
            "433\n",
            "439\n",
            "443\n",
            "449\n",
            "457\n",
            "461\n",
            "463\n",
            "467\n",
            "479\n",
            "487\n",
            "491\n",
            "499\n",
            "503\n",
            "509\n",
            "521\n",
            "523\n",
            "541\n",
            "547\n",
            "557\n",
            "563\n",
            "569\n",
            "571\n",
            "577\n",
            "587\n",
            "593\n",
            "599\n",
            "601\n",
            "607\n",
            "613\n",
            "617\n",
            "619\n",
            "631\n",
            "641\n",
            "643\n",
            "647\n",
            "653\n",
            "659\n",
            "661\n",
            "673\n",
            "677\n",
            "683\n",
            "691\n",
            "701\n",
            "709\n",
            "719\n",
            "727\n",
            "733\n",
            "739\n",
            "743\n",
            "751\n",
            "757\n",
            "761\n",
            "769\n",
            "773\n",
            "787\n",
            "797\n",
            "809\n",
            "811\n",
            "821\n",
            "823\n",
            "827\n",
            "829\n",
            "839\n",
            "853\n",
            "857\n",
            "859\n",
            "863\n",
            "877\n",
            "881\n",
            "883\n",
            "887\n",
            "907\n",
            "911\n",
            "919\n",
            "929\n",
            "937\n",
            "941\n",
            "947\n",
            "953\n",
            "967\n",
            "971\n",
            "977\n",
            "983\n",
            "991\n",
            "997\n"
          ]
        }
      ]
    },
    {
      "cell_type": "code",
      "source": [
        "prime_count = 0\n",
        "\n",
        "for number in range(1, 1001):\n",
        "    if number > 1:\n",
        "        for i in range(2, int(number**0.5) + 1):\n",
        "            if number % i == 0:\n",
        "                break\n",
        "        else:\n",
        "            prime_count += 1\n",
        "\n",
        "print(\"Total prime numbers between 1 and 1000:\", prime_count)\n"
      ],
      "metadata": {
        "colab": {
          "base_uri": "https://localhost:8080/"
        },
        "id": "LmtTjhDjfjd5",
        "outputId": "f183ea48-e670-4060-a275-ead54bf782fd"
      },
      "execution_count": null,
      "outputs": [
        {
          "output_type": "stream",
          "name": "stdout",
          "text": [
            "Total prime numbers between 1 and 1000: 168\n"
          ]
        }
      ]
    },
    {
      "cell_type": "code",
      "source": [
        "sample_space = [(die1, die2)\n",
        "                for die1 in range(1, 7) for die2 in range(1, 7)]\n",
        "print(sample_space)\n",
        "\n",
        "print(\"Total outcomes:\", len(sample_space))\n"
      ],
      "metadata": {
        "colab": {
          "base_uri": "https://localhost:8080/"
        },
        "id": "7vPaxkCMh8X8",
        "outputId": "dc968859-4caa-450e-e96c-eab115139005"
      },
      "execution_count": null,
      "outputs": [
        {
          "output_type": "stream",
          "name": "stdout",
          "text": [
            "Sample space for rolling two dice:\n",
            "[(1, 1), (1, 2), (1, 3), (1, 4), (1, 5), (1, 6), (2, 1), (2, 2), (2, 3), (2, 4), (2, 5), (2, 6), (3, 1), (3, 2), (3, 3), (3, 4), (3, 5), (3, 6), (4, 1), (4, 2), (4, 3), (4, 4), (4, 5), (4, 6), (5, 1), (5, 2), (5, 3), (5, 4), (5, 5), (5, 6), (6, 1), (6, 2), (6, 3), (6, 4), (6, 5), (6, 6)]\n",
            "Total outcomes: 36\n"
          ]
        }
      ]
    },
    {
      "cell_type": "code",
      "source": [
        "sides = int(input(\"Enter sides on each die: \"))\n",
        "dice_count = int(input(\"Enter number of dice: \"))\n",
        "\n",
        "sample_space = [(i,) * dice_count for i in range(1, sides + 1)]\n",
        "\n",
        "print(\"Sample space:\", sample_space)\n",
        "print(\"Total outcomes:\", len(sample_space))\n"
      ],
      "metadata": {
        "colab": {
          "base_uri": "https://localhost:8080/"
        },
        "id": "5bcNv6n-igto",
        "outputId": "4fbcbc1f-06b0-43a5-c491-b6bbb3b92a87"
      },
      "execution_count": null,
      "outputs": [
        {
          "output_type": "stream",
          "name": "stdout",
          "text": [
            "Enter sides on each die: 6\n",
            "Enter number of dice: 2\n",
            "Sample space: [(1, 1), (2, 2), (3, 3), (4, 4), (5, 5), (6, 6)]\n",
            "Total outcomes: 6\n"
          ]
        }
      ]
    },
    {
      "cell_type": "code",
      "source": [
        "sample_space = [(die1, die2) for die1 in range(1, 7) for die2 in range(1, 7)]\n",
        "\n",
        "print(\"Outcomes with sum = 5:\")\n",
        "for outcome in sample_space:\n",
        "    if sum(outcome) == 5:\n",
        "        print(outcome)\n"
      ],
      "metadata": {
        "colab": {
          "base_uri": "https://localhost:8080/"
        },
        "id": "Q7AklxI8mC-q",
        "outputId": "9e9f3ba6-1a51-48b5-92d2-96118891ab51"
      },
      "execution_count": null,
      "outputs": [
        {
          "output_type": "stream",
          "name": "stdout",
          "text": [
            "Outcomes with sum = 5:\n",
            "(1, 4)\n",
            "(2, 3)\n",
            "(3, 2)\n",
            "(4, 1)\n"
          ]
        }
      ]
    },
    {
      "cell_type": "code",
      "source": [
        "for i in range(1, 7):\n",
        "    for j in range(1, 7):\n",
        "        if i + j == 5:\n",
        "            print(i, j)\n"
      ],
      "metadata": {
        "colab": {
          "base_uri": "https://localhost:8080/"
        },
        "id": "HvXNvyQfmoA7",
        "outputId": "d4ef5473-b451-44d8-c148-1ca397921676"
      },
      "execution_count": null,
      "outputs": [
        {
          "output_type": "stream",
          "name": "stdout",
          "text": [
            "1 4\n",
            "2 3\n",
            "3 2\n",
            "4 1\n"
          ]
        }
      ]
    },
    {
      "cell_type": "code",
      "source": [
        "target_sum = int(input(\"Enter the target sum: \"))\n",
        "\n",
        "favorable_count = 0\n",
        "total_count = 0\n",
        "\n",
        "for i in range(1, 7):\n",
        "    for j in range(1, 7):\n",
        "        total_count += 1\n",
        "        if i + j == target_sum:\n",
        "            print(i, j)\n",
        "            favorable_count += 1\n",
        "\n",
        "probability = (favorable_count / total_count) * 100\n",
        "\n",
        "print(f\"Total outcomes: {total_count}\")\n",
        "print(f\"Favorable outcomes (sum = {target_sum}): {favorable_count}\")\n",
        "print(f\"Probability of sum = {target_sum}: {probability:.2f}%\")\n"
      ],
      "metadata": {
        "colab": {
          "base_uri": "https://localhost:8080/"
        },
        "id": "doyBu9YgnLr9",
        "outputId": "28609aa9-2e44-4867-8c35-9148f1568de3"
      },
      "execution_count": null,
      "outputs": [
        {
          "output_type": "stream",
          "name": "stdout",
          "text": [
            "Enter the target sum: 6\n",
            "1 5\n",
            "2 4\n",
            "3 3\n",
            "4 2\n",
            "5 1\n",
            "Total outcomes: 36\n",
            "Favorable outcomes (sum = 6): 5\n",
            "Probability of sum = 6: 13.89%\n"
          ]
        }
      ]
    },
    {
      "cell_type": "code",
      "source": [
        "target_sum = int(input(\"Enter the target sum: \"))\n",
        "\n",
        "favorable_count = 0\n",
        "total_count = 0\n",
        "\n",
        "for i in range(1, 7):\n",
        "    for j in range(1, 7):\n",
        "        total_count += 1\n",
        "        if i + j == target_sum:\n",
        "            favorable_count += 1\n",
        "\n",
        "probability = (favorable_count / total_count) * 100\n",
        "\n",
        "\n",
        "print(f\"Probability of sum = {target_sum}: {probability:.2f}%\")\n"
      ],
      "metadata": {
        "colab": {
          "base_uri": "https://localhost:8080/"
        },
        "id": "dQ-pUUDGoDl1",
        "outputId": "565be99f-eb72-45c2-dff4-fe268b45d399"
      },
      "execution_count": null,
      "outputs": [
        {
          "output_type": "stream",
          "name": "stdout",
          "text": [
            "Enter the target sum: 6\n",
            "Probability of sum = 6: 13.89%\n"
          ]
        }
      ]
    },
    {
      "cell_type": "code",
      "source": [
        "for target_sum in range(2, 13):\n",
        "    favorable_count = sum(1 for i in range(1, 7) for j in range(1, 7) if i + j == target_sum)\n",
        "    probability = (favorable_count / 36) * 100\n",
        "    print(f\"Probability of sum = {target_sum}: {probability:.2f}%\")"
      ],
      "metadata": {
        "colab": {
          "base_uri": "https://localhost:8080/"
        },
        "id": "i41SIwAipAiS",
        "outputId": "1f2d6518-fde1-4ce8-9014-ad6aba588a28"
      },
      "execution_count": null,
      "outputs": [
        {
          "output_type": "stream",
          "name": "stdout",
          "text": [
            "Probability of sum = 2: 2.78%\n",
            "Probability of sum = 3: 5.56%\n",
            "Probability of sum = 4: 8.33%\n",
            "Probability of sum = 5: 11.11%\n",
            "Probability of sum = 6: 13.89%\n",
            "Probability of sum = 7: 16.67%\n",
            "Probability of sum = 8: 13.89%\n",
            "Probability of sum = 9: 11.11%\n",
            "Probability of sum = 10: 8.33%\n",
            "Probability of sum = 11: 5.56%\n",
            "Probability of sum = 12: 2.78%\n"
          ]
        }
      ]
    },
    {
      "cell_type": "code",
      "source": [
        "for target_sum in range(3, 19):\n",
        "    favorable_count = sum(1 for i in range(1, 7) for j in range(1, 7) for k in range(1, 7) if i + j + k== target_sum)\n",
        "    probability = (favorable_count / 216) * 100\n",
        "    print(f\"Probability of sum = {target_sum}: {probability:.2f}%\")"
      ],
      "metadata": {
        "colab": {
          "base_uri": "https://localhost:8080/"
        },
        "id": "_Cc_C-aCpZYf",
        "outputId": "e37536db-6f20-43a8-9d29-c0321e35e18d"
      },
      "execution_count": null,
      "outputs": [
        {
          "output_type": "stream",
          "name": "stdout",
          "text": [
            "Probability of sum = 3: 0.46%\n",
            "Probability of sum = 4: 1.39%\n",
            "Probability of sum = 5: 2.78%\n",
            "Probability of sum = 6: 4.63%\n",
            "Probability of sum = 7: 6.94%\n",
            "Probability of sum = 8: 9.72%\n",
            "Probability of sum = 9: 11.57%\n",
            "Probability of sum = 10: 12.50%\n",
            "Probability of sum = 11: 12.50%\n",
            "Probability of sum = 12: 11.57%\n",
            "Probability of sum = 13: 9.72%\n",
            "Probability of sum = 14: 6.94%\n",
            "Probability of sum = 15: 4.63%\n",
            "Probability of sum = 16: 2.78%\n",
            "Probability of sum = 17: 1.39%\n",
            "Probability of sum = 18: 0.46%\n"
          ]
        }
      ]
    },
    {
      "cell_type": "code",
      "source": [
        "name = 'Akshit 274387huh@3@#$%%%% 454$%3%$#'\n",
        "\n",
        "cleaned_name = ''\n",
        "for char in name:\n",
        "    if ('a' <= char <= 'z') or ('A' <= char <= 'Z'):\n",
        "        cleaned_name += char\n",
        "\n",
        "print(cleaned_name)"
      ],
      "metadata": {
        "id": "OZgzPF7jtDOz",
        "outputId": "3072885a-116c-4226-cb8b-6164ad8dddac",
        "colab": {
          "base_uri": "https://localhost:8080/"
        }
      },
      "execution_count": null,
      "outputs": [
        {
          "output_type": "stream",
          "name": "stdout",
          "text": [
            "Akshithuh\n"
          ]
        }
      ]
    },
    {
      "cell_type": "code",
      "source": [
        "name = 'Alksndnsoj0 nwojosS288VM7##^#%%$$#@ #@%%#$$@$%#$@'\n",
        "\n",
        "cleaned_name = ''\n",
        "for char in name:\n",
        "    if ('a' <= char <= 'z') or ('A' <= char <= 'Z'):\n",
        "        cleaned_name += char\n",
        "\n",
        "print(cleaned_name)\n"
      ],
      "metadata": {
        "colab": {
          "base_uri": "https://localhost:8080/"
        },
        "id": "RpMYW1lsw_Cn",
        "outputId": "72397238-ec1d-41a1-9a5d-4b7e57c97f3e"
      },
      "execution_count": null,
      "outputs": [
        {
          "output_type": "stream",
          "name": "stdout",
          "text": [
            "AlksndnsojnwojosSVM\n"
          ]
        }
      ]
    },
    {
      "cell_type": "code",
      "source": [
        "lst = []\n",
        "\n",
        "for num in range(1,101):\n",
        "      if num % 2 == 0 or num % 3 == 0 or num % 5 == 0:\n",
        "        lst.append(num)\n",
        "print(\"Numbers divisible by 2, 3, or 5:\", lst)\n",
        "\n",
        "average = sum(lst) / len(lst)\n",
        "print(\"Average of these numbers:\", average)"
      ],
      "metadata": {
        "colab": {
          "base_uri": "https://localhost:8080/"
        },
        "id": "J6wtI5IaYrs0",
        "outputId": "1c577c39-be64-4ed2-9b6a-8674d40d4ade"
      },
      "execution_count": null,
      "outputs": [
        {
          "output_type": "stream",
          "name": "stdout",
          "text": [
            "Numbers divisible by 2, 3, or 5: [2, 3, 4, 5, 6, 8, 9, 10, 12, 14, 15, 16, 18, 20, 21, 22, 24, 25, 26, 27, 28, 30, 32, 33, 34, 35, 36, 38, 39, 40, 42, 44, 45, 46, 48, 50, 51, 52, 54, 55, 56, 57, 58, 60, 62, 63, 64, 65, 66, 68, 69, 70, 72, 74, 75, 76, 78, 80, 81, 82, 84, 85, 86, 87, 88, 90, 92, 93, 94, 95, 96, 98, 99, 100]\n",
            "Average of these numbers: 51.108108108108105\n"
          ]
        }
      ]
    },
    {
      "cell_type": "code",
      "source": [
        "names = [\"Aarav\", \"Aditi\", \"Aisha\", \"Amit\", \"Ananya\", \"Arjun\", \"Asha\", \"Diya\", \"Ishaan\", \"Neha\", \"Rahul\", \"Riya\", \"Rohan\", \"Sanya\", \"Vivaan\"]\n",
        "\n",
        "search_name = input(\"Enter the student name to search: \")\n",
        "if search_name in names:\n",
        "  index = names.index(search_name)\n",
        "  print(f\"{search_name} found at index {index}.\")\n",
        "else:\n",
        "  print(f\"{search_name} not found in the list.\")\n",
        "\n"
      ],
      "metadata": {
        "colab": {
          "base_uri": "https://localhost:8080/"
        },
        "id": "j2A4DRycdHFn",
        "outputId": "e80c8c29-c481-4bf1-9a97-00e16d1cb116"
      },
      "execution_count": null,
      "outputs": [
        {
          "output_type": "stream",
          "name": "stdout",
          "text": [
            "Enter the student name to search: Aditi\n",
            "Aditi found at index 1.\n"
          ]
        }
      ]
    },
    {
      "cell_type": "code",
      "source": [
        "names = [\"Aarav\", \"Aditi\", \"Aisha\", \"Amit\", \"Ananya\", \"Arjun\", \"Asha\", \"Diya\", \"Ishaan\", \"Neha\", \"Rahul\", \"Riya\", \"Rohan\", \"Sanya\", \"Vivaan\"]\n",
        "\n",
        "\n",
        "search_name = input(\"Enter the student name to search: \")\n",
        "\n",
        "found = False\n",
        "index = -1\n",
        "for i in range(len(names)):\n",
        "    if names[i].lower() == search_name.lower():\n",
        "        found = True\n",
        "        index = i+1\n",
        "        break\n",
        "\n",
        "if found:\n",
        "    print(f\"{search_name} is found at index {index}.\")\n",
        "else:\n",
        "    print(f\"{search_name} is not found in the list.\")\n"
      ],
      "metadata": {
        "colab": {
          "base_uri": "https://localhost:8080/"
        },
        "id": "7QpCK_kxecW3",
        "outputId": "5057f14f-4fa7-4ffb-ac1c-8e4ba0d36466"
      },
      "execution_count": null,
      "outputs": [
        {
          "output_type": "stream",
          "name": "stdout",
          "text": [
            "Enter the student name to search: aditi\n",
            "aditi is found at index 2.\n"
          ]
        }
      ]
    },
    {
      "cell_type": "code",
      "source": [
        "nested_list = [\n",
        "    [1, 2, 3],\n",
        "    [4, 5, 6],\n",
        "    [7, 8, 9]]\n",
        "\n",
        "\n",
        "for sublist in nested_list:\n",
        "    row_sum = 0\n",
        "    for num in sublist:\n",
        "        row_sum += num\n",
        "    print(\"Sum of this row:\", row_sum)\n",
        "\n"
      ],
      "metadata": {
        "colab": {
          "base_uri": "https://localhost:8080/"
        },
        "id": "-2iNYB5rkFy8",
        "outputId": "fc693c9b-7176-4a53-ff93-69575cb87935"
      },
      "execution_count": null,
      "outputs": [
        {
          "output_type": "stream",
          "name": "stdout",
          "text": [
            "Sum of this row: 6\n",
            "Sum of this row: 15\n",
            "Sum of this row: 24\n"
          ]
        }
      ]
    },
    {
      "cell_type": "code",
      "source": [
        "nested_list = [\n",
        "    [1, 2, 3],\n",
        "    [4, 5, 6],\n",
        "    [7, 8, 9]\n",
        "]\n",
        "\n",
        "num_columns = len(nested_list[0])\n",
        "for col in range(num_columns):\n",
        "    col_sum = 0\n",
        "    for row in nested_list:\n",
        "        col_sum += row[col]\n",
        "    print(f\"Sum of column {col + 1}:\", col_sum)\n",
        "\n"
      ],
      "metadata": {
        "colab": {
          "base_uri": "https://localhost:8080/"
        },
        "id": "V40l71nXli5Z",
        "outputId": "f4f1d173-91fb-4cf5-c595-896f14d9987d"
      },
      "execution_count": null,
      "outputs": [
        {
          "output_type": "stream",
          "name": "stdout",
          "text": [
            "Sum of column 1: 12\n",
            "Sum of column 2: 15\n",
            "Sum of column 3: 18\n"
          ]
        }
      ]
    },
    {
      "cell_type": "code",
      "source": [
        "nested_list = [\n",
        "    [1, 2, 3],\n",
        "    [4, 5, 6],\n",
        "    [7, 8, 9]\n",
        "]\n",
        "primary_diagonal_sum = 0\n",
        "secondary_diagonal_sum = 0\n",
        "\n",
        "for i in range(len(nested_list)):\n",
        "    primary_diagonal_sum += nested_list[i][i]\n",
        "    secondary_diagonal_sum += nested_list[i][len(nested_list) - 1 - i]\n",
        "\n",
        "print(\"Sum of primary diagonal:\", primary_diagonal_sum)\n",
        "print(\"Sum of secondary diagonal:\", secondary_diagonal_sum)\n"
      ],
      "metadata": {
        "colab": {
          "base_uri": "https://localhost:8080/"
        },
        "id": "8SZhgY3hqtp8",
        "outputId": "28fe6d2b-627c-43ae-b205-236f81c2dff8"
      },
      "execution_count": null,
      "outputs": [
        {
          "output_type": "stream",
          "name": "stdout",
          "text": [
            "Sum of primary diagonal: 15\n",
            "Sum of secondary diagonal: 15\n"
          ]
        }
      ]
    },
    {
      "cell_type": "code",
      "source": [
        "\n",
        "nested_list = [\n",
        "    [1, 2, 3],\n",
        "    [4, 5, 6],\n",
        "    [7, 8, 9]\n",
        "]\n",
        "\n",
        "\n",
        "i = 0\n",
        "j = 0\n",
        "\n",
        "\n",
        "for x in range(3):\n",
        "\n",
        "    i += nested_list[x][x]\n",
        "\n",
        "\n",
        "    j += nested_list[x][2 - x]\n",
        "\n",
        "\n",
        "print(\"Sum of i:\", i)\n",
        "print(\"Sum of j:\", j)\n"
      ],
      "metadata": {
        "colab": {
          "base_uri": "https://localhost:8080/"
        },
        "id": "98-fvMxbsH3g",
        "outputId": "76f1e41b-3bce-4f83-b3fc-1e0f952518b2"
      },
      "execution_count": null,
      "outputs": [
        {
          "output_type": "stream",
          "name": "stdout",
          "text": [
            "Sum of i: 15\n",
            "Sum of j: 15\n"
          ]
        }
      ]
    },
    {
      "cell_type": "code",
      "source": [],
      "metadata": {
        "id": "T78JewueaWK6"
      },
      "execution_count": null,
      "outputs": []
    }
  ]
}
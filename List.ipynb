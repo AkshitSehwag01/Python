{
  "nbformat": 4,
  "nbformat_minor": 0,
  "metadata": {
    "colab": {
      "provenance": []
    },
    "kernelspec": {
      "name": "python3",
      "display_name": "Python 3"
    },
    "language_info": {
      "name": "python"
    }
  },
  "cells": [
    {
      "cell_type": "markdown",
      "source": [
        "### 1.List\n"
      ],
      "metadata": {
        "id": "2Jpu2d61U5wm"
      }
    },
    {
      "cell_type": "markdown",
      "source": [
        "#### 1.1.Access the elements through indexing"
      ],
      "metadata": {
        "id": "m2ZS1oc2Vjm0"
      }
    },
    {
      "cell_type": "code",
      "source": [
        "lst = ['Akshit','Ankur','Abhinav','Sakshi','Amankanth','Rahul']\n",
        "\n",
        "print(lst[0])\n",
        "print(lst[4])\n",
        "print(lst[-1])\n",
        "\n"
      ],
      "metadata": {
        "colab": {
          "base_uri": "https://localhost:8080/"
        },
        "id": "t2hOm1yYVq_8",
        "outputId": "78c5d508-92eb-4d0b-9957-df04230afcd6"
      },
      "execution_count": 2,
      "outputs": [
        {
          "output_type": "stream",
          "name": "stdout",
          "text": [
            "Akshit\n",
            "Amankanth\n",
            "Rahul\n"
          ]
        }
      ]
    },
    {
      "cell_type": "markdown",
      "source": [
        "#### 1.2.Modify Values"
      ],
      "metadata": {
        "id": "niQnHZbvWO0Q"
      }
    },
    {
      "cell_type": "code",
      "source": [
        "lst = ['Akshit','Ankur','Abhinav','Sakshi','Amankanth','Rahul']\n",
        "\n",
        "lst[2]='Yash'\n",
        "print(lst)"
      ],
      "metadata": {
        "colab": {
          "base_uri": "https://localhost:8080/"
        },
        "id": "xgkhRk3bWTEx",
        "outputId": "36ce9380-0637-4c51-8509-6f94179cfa04"
      },
      "execution_count": 3,
      "outputs": [
        {
          "output_type": "stream",
          "name": "stdout",
          "text": [
            "['Akshit', 'Ankur', 'Yash', 'Sakshi', 'Amankanth', 'Rahul']\n"
          ]
        }
      ]
    },
    {
      "cell_type": "markdown",
      "source": [
        "#### 1.3.Slicing"
      ],
      "metadata": {
        "id": "_4L4aUPTWlvf"
      }
    },
    {
      "cell_type": "code",
      "source": [
        "lst = ['Akshit', 'Ankur', 'Yash', 'Sakshi', 'Amankanth', 'Rahul']\n",
        "print(lst[1:4])"
      ],
      "metadata": {
        "colab": {
          "base_uri": "https://localhost:8080/"
        },
        "id": "Umt5yFPUWoFj",
        "outputId": "96094c1b-0a8f-48d0-e6f3-709d779664e7"
      },
      "execution_count": 4,
      "outputs": [
        {
          "output_type": "stream",
          "name": "stdout",
          "text": [
            "['Ankur', 'Yash', 'Sakshi']\n"
          ]
        }
      ]
    },
    {
      "cell_type": "markdown",
      "source": [
        "#### 1.4.Reverse a String"
      ],
      "metadata": {
        "id": "-vR3qw6tW_Lr"
      }
    },
    {
      "cell_type": "code",
      "source": [
        "lst = ['Akshit', 'Ankur', 'Yash', 'Sakshi', 'Amankanth', 'Rahul']\n",
        "print(lst[::-1])"
      ],
      "metadata": {
        "colab": {
          "base_uri": "https://localhost:8080/"
        },
        "id": "i4JJT-YtXDZu",
        "outputId": "c742dd27-1981-404e-d8a6-2f58d9a23385"
      },
      "execution_count": 5,
      "outputs": [
        {
          "output_type": "stream",
          "name": "stdout",
          "text": [
            "['Rahul', 'Amankanth', 'Sakshi', 'Yash', 'Ankur', 'Akshit']\n"
          ]
        }
      ]
    },
    {
      "cell_type": "markdown",
      "source": [
        "#### 1.5.Appending"
      ],
      "metadata": {
        "id": "XnVI8ZhlXMOR"
      }
    },
    {
      "cell_type": "code",
      "source": [
        "lst = ['Akshit', 'Ankur', 'Yash', 'Sakshi', 'Amankanth', 'Rahul']\n",
        "print(lst)\n",
        "lst.append('Akshay')\n",
        "print(lst)"
      ],
      "metadata": {
        "colab": {
          "base_uri": "https://localhost:8080/"
        },
        "id": "Tdq8vZEuXQdh",
        "outputId": "6b1f1dfa-2399-4a98-9046-b10d6d77fb6a"
      },
      "execution_count": 6,
      "outputs": [
        {
          "output_type": "stream",
          "name": "stdout",
          "text": [
            "['Akshit', 'Ankur', 'Yash', 'Sakshi', 'Amankanth', 'Rahul']\n",
            "['Akshit', 'Ankur', 'Yash', 'Sakshi', 'Amankanth', 'Rahul', 'Akshay']\n"
          ]
        }
      ]
    },
    {
      "cell_type": "markdown",
      "source": [
        "#### 1.6.Removing"
      ],
      "metadata": {
        "id": "v-gYVohrXq_R"
      }
    },
    {
      "cell_type": "code",
      "source": [
        "lst = ['Akshit', 'Ankur', 'Yash', 'Sakshi', 'Amankanth', 'Rahul']\n",
        "lst.remove('Sakshi')\n",
        "print(lst)"
      ],
      "metadata": {
        "colab": {
          "base_uri": "https://localhost:8080/"
        },
        "id": "bWONFy7DXxrL",
        "outputId": "f0f37a0c-385f-4895-ab4e-60fe1034d6bc"
      },
      "execution_count": 7,
      "outputs": [
        {
          "output_type": "stream",
          "name": "stdout",
          "text": [
            "['Akshit', 'Ankur', 'Yash', 'Amankanth', 'Rahul']\n"
          ]
        }
      ]
    },
    {
      "cell_type": "markdown",
      "source": [
        "#### 1.7.Length"
      ],
      "metadata": {
        "id": "PNM0dn01X_VH"
      }
    },
    {
      "cell_type": "code",
      "source": [
        "lst = ['Akshit', 'Ankur', 'Yash', 'Sakshi', 'Amankanth', 'Rahul']\n",
        "print(len(lst))"
      ],
      "metadata": {
        "colab": {
          "base_uri": "https://localhost:8080/"
        },
        "id": "RjNm86WhYDKw",
        "outputId": "073b13fb-8420-4a99-d94f-a0e16993e8ac"
      },
      "execution_count": 8,
      "outputs": [
        {
          "output_type": "stream",
          "name": "stdout",
          "text": [
            "6\n"
          ]
        }
      ]
    },
    {
      "cell_type": "markdown",
      "source": [
        "#### 1.8.Sorting"
      ],
      "metadata": {
        "id": "SrtMw78KYX7a"
      }
    },
    {
      "cell_type": "code",
      "source": [
        "lst = [3,5,6,5,4,1,20,15,8,7,9]\n",
        "print(sorted(lst))"
      ],
      "metadata": {
        "colab": {
          "base_uri": "https://localhost:8080/"
        },
        "id": "37cs4FFVYbfH",
        "outputId": "1731ff23-9c04-4b32-b002-cf113470796d"
      },
      "execution_count": 9,
      "outputs": [
        {
          "output_type": "stream",
          "name": "stdout",
          "text": [
            "[1, 3, 4, 5, 5, 6, 7, 8, 9, 15, 20]\n"
          ]
        }
      ]
    },
    {
      "cell_type": "markdown",
      "source": [
        "#### 1.9.Find Element"
      ],
      "metadata": {
        "id": "Qgrui3EvYriK"
      }
    },
    {
      "cell_type": "code",
      "source": [
        "lst = ['Akshit', 'Ankur', 'Yash', 'Sakshi', 'Amankanth', 'Rahul']\n",
        "print(lst.index('Yash'))"
      ],
      "metadata": {
        "colab": {
          "base_uri": "https://localhost:8080/"
        },
        "id": "S_eKUyelYxZG",
        "outputId": "5da95951-155c-4b65-c325-e54b4367194a"
      },
      "execution_count": 10,
      "outputs": [
        {
          "output_type": "stream",
          "name": "stdout",
          "text": [
            "2\n"
          ]
        }
      ]
    },
    {
      "cell_type": "markdown",
      "source": [
        "#### 1.10.Count"
      ],
      "metadata": {
        "id": "HScsyeCGY6Uf"
      }
    },
    {
      "cell_type": "code",
      "source": [
        "lst = ['Akshit', 'Ankur', 'Yash', 'Sakshi', 'Amankanth', 'Rahul']\n",
        "print(lst.count('Yash'))"
      ],
      "metadata": {
        "colab": {
          "base_uri": "https://localhost:8080/"
        },
        "id": "U8hYyU8HY_ns",
        "outputId": "7d0b2798-8cfd-477f-d456-26432890ccf9"
      },
      "execution_count": 11,
      "outputs": [
        {
          "output_type": "stream",
          "name": "stdout",
          "text": [
            "1\n"
          ]
        }
      ]
    },
    {
      "cell_type": "markdown",
      "source": [
        "#### 1.11.Extending"
      ],
      "metadata": {
        "id": "JANwBJ7OZFoT"
      }
    },
    {
      "cell_type": "code",
      "source": [
        "lst = ['Akshit', 'Ankur', 'Yash', 'Sakshi', 'Amankanth', 'Rahul']\n",
        "lst1 = ['Akshay','Abhinav']\n",
        "lst.extend(lst1)\n",
        "print(lst)"
      ],
      "metadata": {
        "colab": {
          "base_uri": "https://localhost:8080/"
        },
        "id": "lhetvsYtZUk9",
        "outputId": "bc670d35-2f9c-4021-d719-782a5259be86"
      },
      "execution_count": 12,
      "outputs": [
        {
          "output_type": "stream",
          "name": "stdout",
          "text": [
            "['Akshit', 'Ankur', 'Yash', 'Sakshi', 'Amankanth', 'Rahul', 'Akshay', 'Abhinav']\n"
          ]
        }
      ]
    },
    {
      "cell_type": "markdown",
      "source": [
        "#### 1.12.Finding maximum and mininmum"
      ],
      "metadata": {
        "id": "S6jjZghwZZup"
      }
    },
    {
      "cell_type": "code",
      "source": [
        "lst = [3,5,6,5,4,1,20,15,8,7,9]\n",
        "print(min(lst))\n",
        "print(max(lst))\n"
      ],
      "metadata": {
        "colab": {
          "base_uri": "https://localhost:8080/"
        },
        "id": "9UyA1jk3Zevb",
        "outputId": "8e251104-9fc7-4bb3-8cc4-102c73392f7c"
      },
      "execution_count": 13,
      "outputs": [
        {
          "output_type": "stream",
          "name": "stdout",
          "text": [
            "1\n",
            "20\n"
          ]
        }
      ]
    },
    {
      "cell_type": "markdown",
      "source": [
        "#### 1.13.Iterating the element of list | Direct"
      ],
      "metadata": {
        "id": "BQATIGRgZnrK"
      }
    },
    {
      "cell_type": "code",
      "source": [
        "lst = [3,5,6,5,4,1,20,15,8,7,9]\n",
        "for i in lst:\n",
        "  print(i)"
      ],
      "metadata": {
        "colab": {
          "base_uri": "https://localhost:8080/"
        },
        "id": "nPVwfTwDZ6dC",
        "outputId": "2727062e-73aa-46f9-8541-274614f6f3d8"
      },
      "execution_count": 15,
      "outputs": [
        {
          "output_type": "stream",
          "name": "stdout",
          "text": [
            "3\n",
            "5\n",
            "6\n",
            "5\n",
            "4\n",
            "1\n",
            "20\n",
            "15\n",
            "8\n",
            "7\n",
            "9\n"
          ]
        }
      ]
    },
    {
      "cell_type": "markdown",
      "source": [
        "#### 1.14.Iterating the element of list | Indexing"
      ],
      "metadata": {
        "id": "IFqdb5NIaIH-"
      }
    },
    {
      "cell_type": "code",
      "source": [
        "lst = [3,5,6,5,4,1,20,15,8,7,9]\n",
        "for i in range(len(lst)):\n",
        "  print(i,lst[i])"
      ],
      "metadata": {
        "colab": {
          "base_uri": "https://localhost:8080/"
        },
        "id": "feHzNviXaQWj",
        "outputId": "c67b9076-209f-486b-9640-261b4efd11bd"
      },
      "execution_count": 16,
      "outputs": [
        {
          "output_type": "stream",
          "name": "stdout",
          "text": [
            "0 3\n",
            "1 5\n",
            "2 6\n",
            "3 5\n",
            "4 4\n",
            "5 1\n",
            "6 20\n",
            "7 15\n",
            "8 8\n",
            "9 7\n",
            "10 9\n"
          ]
        }
      ]
    },
    {
      "cell_type": "markdown",
      "source": [
        "#### 1.15.Iterating the element of list in reverse"
      ],
      "metadata": {
        "id": "0ZIqUDE7ab71"
      }
    },
    {
      "cell_type": "code",
      "source": [
        "lst = [3,5,6,5,4,1,20,15,8,7,9]\n",
        "for i in range(len(lst)-1,-1,-1):\n",
        "  print(i,lst[i])\n"
      ],
      "metadata": {
        "colab": {
          "base_uri": "https://localhost:8080/"
        },
        "id": "ghiY3Q4Mai04",
        "outputId": "ea5126f9-cee7-4464-eb69-e8b7a0e91940"
      },
      "execution_count": 19,
      "outputs": [
        {
          "output_type": "stream",
          "name": "stdout",
          "text": [
            "10 9\n",
            "9 7\n",
            "8 8\n",
            "7 15\n",
            "6 20\n",
            "5 1\n",
            "4 4\n",
            "3 5\n",
            "2 6\n",
            "1 5\n",
            "0 3\n"
          ]
        }
      ]
    },
    {
      "cell_type": "markdown",
      "source": [
        "### 2.List Comprehension"
      ],
      "metadata": {
        "id": "iMoiuQ6OlXoo"
      }
    },
    {
      "cell_type": "markdown",
      "source": [
        "#### 2.1.Square all the elements of list."
      ],
      "metadata": {
        "id": "hueDVctYle42"
      }
    },
    {
      "cell_type": "code",
      "source": [
        "lst = [1,2,3,4,5,6,7,9,10]\n",
        "lst= [i**2 for i in lst]\n",
        "print(lst)"
      ],
      "metadata": {
        "colab": {
          "base_uri": "https://localhost:8080/"
        },
        "id": "d57f9_8Plkgk",
        "outputId": "23c676a7-7b27-4e77-bbcf-8360f678eeef"
      },
      "execution_count": 20,
      "outputs": [
        {
          "output_type": "stream",
          "name": "stdout",
          "text": [
            "[1, 4, 9, 16, 25, 36, 49, 81, 100]\n"
          ]
        }
      ]
    },
    {
      "cell_type": "markdown",
      "source": [
        "#### 2.2.Finding first 10 even numbers."
      ],
      "metadata": {
        "id": "AvNL0GYCmHCf"
      }
    },
    {
      "cell_type": "code",
      "source": [
        "print([i for i in range(21) if i%2 == 0])"
      ],
      "metadata": {
        "colab": {
          "base_uri": "https://localhost:8080/"
        },
        "id": "lnFiQYP6mMKX",
        "outputId": "a4411cca-9b56-4e47-b514-359436e5ad4e"
      },
      "execution_count": 26,
      "outputs": [
        {
          "output_type": "stream",
          "name": "stdout",
          "text": [
            "[0, 2, 4, 6, 8, 10, 12, 14, 16, 18, 20]\n"
          ]
        }
      ]
    },
    {
      "cell_type": "markdown",
      "source": [
        "#### 2.3.Finding first 10 even numbers and square it."
      ],
      "metadata": {
        "id": "GM5M9zLsnlBD"
      }
    },
    {
      "cell_type": "code",
      "source": [
        "print([i**2 for i in range(21) if i%2 == 0])"
      ],
      "metadata": {
        "colab": {
          "base_uri": "https://localhost:8080/"
        },
        "id": "jN_jE8SanqZp",
        "outputId": "0bb81df7-8fe6-40d3-b761-069301439054"
      },
      "execution_count": 27,
      "outputs": [
        {
          "output_type": "stream",
          "name": "stdout",
          "text": [
            "[0, 4, 16, 36, 64, 100, 144, 196, 256, 324, 400]\n"
          ]
        }
      ]
    },
    {
      "cell_type": "markdown",
      "source": [
        "#### 2.4.Multi-dimensional list."
      ],
      "metadata": {
        "id": "XXEdzf8_oQNj"
      }
    },
    {
      "cell_type": "code",
      "source": [
        "print([[j for j in range(5)] for i in range(3)])"
      ],
      "metadata": {
        "colab": {
          "base_uri": "https://localhost:8080/"
        },
        "id": "vkxxgZymoVOl",
        "outputId": "f3cd03ad-b845-404b-e80e-e443a09cae93"
      },
      "execution_count": 28,
      "outputs": [
        {
          "output_type": "stream",
          "name": "stdout",
          "text": [
            "[[0, 1, 2, 3, 4], [0, 1, 2, 3, 4], [0, 1, 2, 3, 4]]\n"
          ]
        }
      ]
    },
    {
      "cell_type": "markdown",
      "source": [
        "### 3.Dictionary"
      ],
      "metadata": {
        "id": "n8IsASDG2gOY"
      }
    },
    {
      "cell_type": "markdown",
      "source": [
        "#### 3.1.Initializing the dictionary"
      ],
      "metadata": {
        "id": "aKxo5bl62mfO"
      }
    },
    {
      "cell_type": "code",
      "source": [
        "dct = {1:'Akshit',2:'Ankur',3:'Abhinav',4:'Sakshi',5:'Amankanth',6:'Rahul'}\n",
        "print(dct)"
      ],
      "metadata": {
        "colab": {
          "base_uri": "https://localhost:8080/"
        },
        "id": "jf61Nzst2sxS",
        "outputId": "aac61415-8969-4c9b-946d-91449d8cddcf"
      },
      "execution_count": 29,
      "outputs": [
        {
          "output_type": "stream",
          "name": "stdout",
          "text": [
            "{1: 'Akshit', 2: 'Ankur', 3: 'Abhinav', 4: 'Sakshi', 5: 'Amankanth', 6: 'Rahul'}\n"
          ]
        }
      ]
    },
    {
      "cell_type": "markdown",
      "source": [
        "#### 3.2.Accessing the elements."
      ],
      "metadata": {
        "id": "i1K75BAo3C3R"
      }
    },
    {
      "cell_type": "code",
      "source": [
        "print(dct)\n",
        "print('-'*10)\n",
        "\n",
        "print(dct[1])\n",
        "print('-'*10)\n",
        "\n",
        "print(dct.get(1))\n"
      ],
      "metadata": {
        "colab": {
          "base_uri": "https://localhost:8080/"
        },
        "id": "YoDjBeAb3HZl",
        "outputId": "1a352f5a-b344-4d81-a454-f5725bfda616"
      },
      "execution_count": 33,
      "outputs": [
        {
          "output_type": "stream",
          "name": "stdout",
          "text": [
            "{1: 'Akshit', 2: 'Ankur', 3: 'Abhinav', 4: 'Sakshi', 5: 'Amankanth', 6: 'Rahul'}\n",
            "----------\n",
            "Akshit\n",
            "----------\n",
            "Akshit\n"
          ]
        }
      ]
    },
    {
      "cell_type": "markdown",
      "source": [
        "#### 3.3.Adding and updating the key-value pairs."
      ],
      "metadata": {
        "id": "nSlHcXAQ3g8A"
      }
    },
    {
      "cell_type": "code",
      "source": [
        "dct = {1:'Akshit',2:'Ankur',3:'Abhinav',4:'Sakshi',5:'Amankanth',6:'Rahul'}\n",
        "dct[7] = 'Ankur'\n",
        "print(dct)\n",
        "dct[7]='sadaf'\n",
        "print(dct)\n",
        "dct[7]='Anmol'\n",
        "print(dct)"
      ],
      "metadata": {
        "colab": {
          "base_uri": "https://localhost:8080/"
        },
        "id": "utjxue6P3o16",
        "outputId": "64c10ee3-85e1-4f13-ca83-54926753588b"
      },
      "execution_count": 37,
      "outputs": [
        {
          "output_type": "stream",
          "name": "stdout",
          "text": [
            "{1: 'Akshit', 2: 'Ankur', 3: 'Abhinav', 4: 'Sakshi', 5: 'Amankanth', 6: 'Rahul', 7: 'Ankur'}\n",
            "{1: 'Akshit', 2: 'Ankur', 3: 'Abhinav', 4: 'Sakshi', 5: 'Amankanth', 6: 'Rahul', 7: 'sadaf'}\n",
            "{1: 'Akshit', 2: 'Ankur', 3: 'Abhinav', 4: 'Sakshi', 5: 'Amankanth', 6: 'Rahul', 7: 'Anmol'}\n"
          ]
        }
      ]
    },
    {
      "cell_type": "markdown",
      "source": [
        "#### 3.4.Cleaning the dictionary."
      ],
      "metadata": {
        "id": "JCcqx01W4u4z"
      }
    },
    {
      "cell_type": "code",
      "source": [
        "print(dct)\n",
        "dct.clear()\n",
        "print(dct)"
      ],
      "metadata": {
        "colab": {
          "base_uri": "https://localhost:8080/"
        },
        "id": "xTOlebka44pe",
        "outputId": "094ca0b1-8703-4c42-eb25-c76cd3c850e4"
      },
      "execution_count": 38,
      "outputs": [
        {
          "output_type": "stream",
          "name": "stdout",
          "text": [
            "{1: 'Akshit', 2: 'Ankur', 3: 'Abhinav', 4: 'Sakshi', 5: 'Amankanth', 6: 'Rahul', 7: 'Anmol'}\n",
            "{}\n"
          ]
        }
      ]
    },
    {
      "cell_type": "markdown",
      "source": [
        "#### 3.5.Iterating through the dictionary."
      ],
      "metadata": {
        "id": "WqDv8ge_5Cdb"
      }
    },
    {
      "cell_type": "code",
      "source": [
        "dct = {1:'Akshit',2:'Ankur',3:'Abhinav',4:'Sakshi',5:'Amankanth',6:'Rahul'}\n",
        "print(dct)\n",
        "print(dct.keys())\n",
        "print(dct.values())\n",
        "print('-'*10)\n",
        "\n",
        "for k in dct.keys():\n",
        "  print(k,dct[k])\n",
        "print('-'*10)\n",
        "\n",
        "print(dct.items())\n",
        "for k,v in dct.items():\n",
        "  print(f\"{k}.{v}\")\n"
      ],
      "metadata": {
        "colab": {
          "base_uri": "https://localhost:8080/"
        },
        "id": "NHOYsn6M5Iya",
        "outputId": "99a5791f-833e-4346-8a10-ebee27f196ce"
      },
      "execution_count": 46,
      "outputs": [
        {
          "output_type": "stream",
          "name": "stdout",
          "text": [
            "{1: 'Akshit', 2: 'Ankur', 3: 'Abhinav', 4: 'Sakshi', 5: 'Amankanth', 6: 'Rahul'}\n",
            "dict_keys([1, 2, 3, 4, 5, 6])\n",
            "dict_values(['Akshit', 'Ankur', 'Abhinav', 'Sakshi', 'Amankanth', 'Rahul'])\n",
            "----------\n",
            "1 Akshit\n",
            "2 Ankur\n",
            "3 Abhinav\n",
            "4 Sakshi\n",
            "5 Amankanth\n",
            "6 Rahul\n",
            "----------\n",
            "dict_items([(1, 'Akshit'), (2, 'Ankur'), (3, 'Abhinav'), (4, 'Sakshi'), (5, 'Amankanth'), (6, 'Rahul')])\n",
            "1.Akshit\n",
            "2.Ankur\n",
            "3.Abhinav\n",
            "4.Sakshi\n",
            "5.Amankanth\n",
            "6.Rahul\n"
          ]
        }
      ]
    },
    {
      "cell_type": "markdown",
      "source": [
        "#### 3.6.Check if key is present."
      ],
      "metadata": {
        "id": "ExrL0RRo6zJX"
      }
    },
    {
      "cell_type": "code",
      "source": [
        "print(dct)\n",
        "print(1 in dct)\n",
        "print('1' in dct)"
      ],
      "metadata": {
        "colab": {
          "base_uri": "https://localhost:8080/"
        },
        "id": "6KlUZNvX63Ej",
        "outputId": "3d07ff71-a258-410e-d2aa-6051ec82c76f"
      },
      "execution_count": 47,
      "outputs": [
        {
          "output_type": "stream",
          "name": "stdout",
          "text": [
            "{1: 'Akshit', 2: 'Ankur', 3: 'Abhinav', 4: 'Sakshi', 5: 'Amankanth', 6: 'Rahul'}\n",
            "True\n",
            "False\n"
          ]
        }
      ]
    },
    {
      "cell_type": "markdown",
      "source": [
        "#### 3.7.dct updating the dictionaries."
      ],
      "metadata": {
        "id": "plJbyTZp7Bq6"
      }
    },
    {
      "cell_type": "code",
      "source": [
        "dct_1 = {1:'A',2:'B',3:'C'}\n",
        "dct_2 = {1:'a',2:'b',3:'c'}\n",
        "print(dct_1)\n",
        "print(dct_2)\n",
        "dct_1.update(dct_2)\n",
        "print(dct_1)\n",
        "print(dct_2)"
      ],
      "metadata": {
        "colab": {
          "base_uri": "https://localhost:8080/"
        },
        "id": "VwU05ER37LeQ",
        "outputId": "d84676f5-bab3-47ad-b27d-f1f1a93677e1"
      },
      "execution_count": 50,
      "outputs": [
        {
          "output_type": "stream",
          "name": "stdout",
          "text": [
            "{1: 'A', 2: 'B', 3: 'C'}\n",
            "{1: 'a', 2: 'b', 3: 'c'}\n",
            "{1: 'a', 2: 'b', 3: 'c'}\n",
            "{1: 'a', 2: 'b', 3: 'c'}\n"
          ]
        }
      ]
    },
    {
      "cell_type": "markdown",
      "source": [
        "### 4.Dictionary Comprehension."
      ],
      "metadata": {
        "id": "RvLM7C9fESDl"
      }
    },
    {
      "cell_type": "code",
      "source": [
        "dct = {i:i**2 for i in range(1,11)}\n",
        "print(dct)"
      ],
      "metadata": {
        "colab": {
          "base_uri": "https://localhost:8080/"
        },
        "id": "wOR5LfWtEXg5",
        "outputId": "3f10ee3d-98c8-49c7-dc87-f666ed29a374"
      },
      "execution_count": 51,
      "outputs": [
        {
          "output_type": "stream",
          "name": "stdout",
          "text": [
            "{1: 1, 2: 4, 3: 9, 4: 16, 5: 25, 6: 36, 7: 49, 8: 64, 9: 81, 10: 100}\n"
          ]
        }
      ]
    },
    {
      "cell_type": "markdown",
      "source": [
        "#### 4.1.Dictionary with conditions."
      ],
      "metadata": {
        "id": "IpnBci1sEiDK"
      }
    },
    {
      "cell_type": "code",
      "source": [
        "dct = {i:i**2 for i in range(1,11) if i%2 == 0}\n",
        "print(dct)"
      ],
      "metadata": {
        "colab": {
          "base_uri": "https://localhost:8080/"
        },
        "id": "xbOVnFHCErKH",
        "outputId": "6c275416-7af1-4804-f183-fd5b4e6ac764"
      },
      "execution_count": 52,
      "outputs": [
        {
          "output_type": "stream",
          "name": "stdout",
          "text": [
            "{2: 4, 4: 16, 6: 36, 8: 64, 10: 100}\n"
          ]
        }
      ]
    },
    {
      "cell_type": "markdown",
      "source": [
        "#### 4.2.Dictionaries from lists"
      ],
      "metadata": {
        "id": "by715dfeE1DH"
      }
    },
    {
      "cell_type": "code",
      "source": [
        "lst = ['Apple','Bananas','Grapes']\n",
        "dct = {item:len(item) for item in lst}\n",
        "print(lst)\n",
        "print(dct)\n",
        "dct = {len(item):item for item in lst}\n",
        "print(dct)"
      ],
      "metadata": {
        "colab": {
          "base_uri": "https://localhost:8080/"
        },
        "id": "ZdmsMuzxE6ny",
        "outputId": "ac84cb61-b9f7-48db-82b2-00b24be136c1"
      },
      "execution_count": 57,
      "outputs": [
        {
          "output_type": "stream",
          "name": "stdout",
          "text": [
            "['Apple', 'Bananas', 'Grapes']\n",
            "{'Apple': 5, 'Bananas': 7, 'Grapes': 6}\n",
            "{5: 'Apple', 7: 'Bananas', 6: 'Grapes'}\n"
          ]
        }
      ]
    },
    {
      "cell_type": "markdown",
      "source": [
        "#### 4.3.Special keys with strings."
      ],
      "metadata": {
        "id": "IUSBJQz8F2kA"
      }
    },
    {
      "cell_type": "code",
      "source": [
        "dct = {'num_' + str(i) : i for i in range(1,11)}\n",
        "print(dct)\n",
        "print('-'*10)\n",
        "\n",
        "dct = {'num_' + str(i) : i for i in range(1,11)}\n",
        "dct = {k:v for k,v in dct.items() if v%2 == 0}\n",
        "print(dct)\n"
      ],
      "metadata": {
        "colab": {
          "base_uri": "https://localhost:8080/"
        },
        "id": "WGbxTaxXGAY0",
        "outputId": "bb211e81-4fb7-4cfb-b8c8-5c8895441afd"
      },
      "execution_count": 59,
      "outputs": [
        {
          "output_type": "stream",
          "name": "stdout",
          "text": [
            "{'num_1': 1, 'num_2': 2, 'num_3': 3, 'num_4': 4, 'num_5': 5, 'num_6': 6, 'num_7': 7, 'num_8': 8, 'num_9': 9, 'num_10': 10}\n",
            "----------\n",
            "{'num_2': 2, 'num_4': 4, 'num_6': 6, 'num_8': 8, 'num_10': 10}\n"
          ]
        }
      ]
    },
    {
      "cell_type": "code",
      "source": [
        "matrix =[[1,2,3],[4,5,6],[7,8,9]]\n",
        "final_dct = {matrix [i][j] :(i,j)   for i in range(3) for j in range(3) }\n",
        "print(final_dct)"
      ],
      "metadata": {
        "colab": {
          "base_uri": "https://localhost:8080/"
        },
        "id": "w8RFPMgxHWg5",
        "outputId": "5752f358-9e75-4174-ba0f-1ced69d62e5d"
      },
      "execution_count": 63,
      "outputs": [
        {
          "output_type": "stream",
          "name": "stdout",
          "text": [
            "{1: (0, 0), 2: (0, 1), 3: (0, 2), 4: (1, 0), 5: (1, 1), 6: (1, 2), 7: (2, 0), 8: (2, 1), 9: (2, 2)}\n"
          ]
        }
      ]
    },
    {
      "cell_type": "markdown",
      "source": [
        "### 5.Set and Tuple"
      ],
      "metadata": {
        "id": "Yv1Bqnf0jKTg"
      }
    },
    {
      "cell_type": "markdown",
      "source": [
        "#### 5.1.Creating a set."
      ],
      "metadata": {
        "id": "6BnXbAK3pKOk"
      }
    },
    {
      "cell_type": "code",
      "source": [
        "my_Set = {1,2,3,4,5}\n",
        "print(my_Set)\n",
        "print(type(my_Set))"
      ],
      "metadata": {
        "colab": {
          "base_uri": "https://localhost:8080/"
        },
        "id": "76fb_r9rpNZn",
        "outputId": "fb9a219c-6ae1-40aa-8c36-ad6f3c04170d"
      },
      "execution_count": 1,
      "outputs": [
        {
          "output_type": "stream",
          "name": "stdout",
          "text": [
            "{1, 2, 3, 4, 5}\n",
            "<class 'set'>\n"
          ]
        }
      ]
    },
    {
      "cell_type": "markdown",
      "source": [
        "#### 5.2.Adding values."
      ],
      "metadata": {
        "id": "Is3ttVLApcUd"
      }
    },
    {
      "cell_type": "code",
      "source": [
        "print(my_Set)\n",
        "my_Set.add(6)\n",
        "print(my_Set)"
      ],
      "metadata": {
        "colab": {
          "base_uri": "https://localhost:8080/"
        },
        "id": "4cAtoHwwpiyc",
        "outputId": "62c46a9d-8238-4a1a-f0b1-0940e00e54c5"
      },
      "execution_count": 2,
      "outputs": [
        {
          "output_type": "stream",
          "name": "stdout",
          "text": [
            "{1, 2, 3, 4, 5}\n",
            "{1, 2, 3, 4, 5, 6}\n"
          ]
        }
      ]
    },
    {
      "cell_type": "markdown",
      "source": [
        "#### 5.3.Popping values."
      ],
      "metadata": {
        "id": "FBy4yF-AppsB"
      }
    },
    {
      "cell_type": "code",
      "source": [
        "my_Set = {1, 2, 3, 4, 5, 6}\n",
        "print(my_Set)\n",
        "\n",
        "\n",
        "popped_element = my_Set.pop()\n",
        "print(my_Set)\n",
        "print(popped_element)\n"
      ],
      "metadata": {
        "colab": {
          "base_uri": "https://localhost:8080/"
        },
        "id": "hN-YaEGBpuMh",
        "outputId": "2b42747a-d148-47c4-baba-451ea0142e93"
      },
      "execution_count": 5,
      "outputs": [
        {
          "output_type": "stream",
          "name": "stdout",
          "text": [
            "{1, 2, 3, 4, 5, 6}\n",
            "{1, 2, 3, 4, 5}\n",
            "----------\n",
            "{1, 2, 3, 4, 5, 6}\n",
            "{2, 3, 4, 5, 6}\n",
            "1\n"
          ]
        }
      ]
    },
    {
      "cell_type": "markdown",
      "source": [
        "#### 5.4.Removing values."
      ],
      "metadata": {
        "id": "d3-nCsR0qux1"
      }
    },
    {
      "cell_type": "code",
      "source": [
        "my_Set = {1, 2, 3, 4, 5, 6}\n",
        "\n",
        "\n",
        "print(my_Set)\n",
        "\n",
        "\n",
        "my_Set.remove(6)\n",
        "print(my_Set)\n",
        "print('-'*10)\n",
        "\n",
        "my_Set = {1, 2, 3, 4, 5, 6}\n",
        "print(my_Set)\n",
        "my_Set.discard(5)\n",
        "print(my_Set)\n"
      ],
      "metadata": {
        "colab": {
          "base_uri": "https://localhost:8080/"
        },
        "id": "6yO8VP_3qy46",
        "outputId": "9ef2fe06-2246-41ed-9f92-3beec56507de"
      },
      "execution_count": 7,
      "outputs": [
        {
          "output_type": "stream",
          "name": "stdout",
          "text": [
            "{1, 2, 3, 4, 5, 6}\n",
            "{1, 2, 3, 4, 5}\n",
            "----------\n",
            "{1, 2, 3, 4, 5, 6}\n",
            "{1, 2, 3, 4, 6}\n"
          ]
        }
      ]
    },
    {
      "cell_type": "markdown",
      "source": [
        "#### 5.5.Iterrrating"
      ],
      "metadata": {
        "id": "jYDJRG3DrNDZ"
      }
    },
    {
      "cell_type": "code",
      "source": [
        "my_set = {1, 2, 3, 4, 5, 6}\n",
        "print(my_set)\n",
        "for i in my_set:\n",
        "  print(i)"
      ],
      "metadata": {
        "colab": {
          "base_uri": "https://localhost:8080/"
        },
        "id": "pDf4QlJGrRJB",
        "outputId": "9db97c6c-6614-46e4-9103-1c6a80474182"
      },
      "execution_count": 8,
      "outputs": [
        {
          "output_type": "stream",
          "name": "stdout",
          "text": [
            "{1, 2, 3, 4, 5, 6}\n",
            "1\n",
            "2\n",
            "3\n",
            "4\n",
            "5\n",
            "6\n"
          ]
        }
      ]
    },
    {
      "cell_type": "markdown",
      "source": [
        "#### 5.6.Checking the value."
      ],
      "metadata": {
        "id": "cMTwN7YJrkSg"
      }
    },
    {
      "cell_type": "code",
      "source": [
        "print(my_set)\n",
        "print(1 in my_set)\n",
        "print(10 in my_set)\n",
        "print(9 in my_set)\n"
      ],
      "metadata": {
        "colab": {
          "base_uri": "https://localhost:8080/"
        },
        "id": "fLcHWsNLrqmG",
        "outputId": "2ff4bef8-aec1-45ba-82be-81c6a1bdb6da"
      },
      "execution_count": 9,
      "outputs": [
        {
          "output_type": "stream",
          "name": "stdout",
          "text": [
            "{1, 2, 3, 4, 5, 6}\n",
            "True\n",
            "False\n",
            "False\n"
          ]
        }
      ]
    },
    {
      "cell_type": "markdown",
      "source": [
        "#### 5.7.Set operations."
      ],
      "metadata": {
        "id": "PTxT5zfsr39C"
      }
    },
    {
      "cell_type": "code",
      "source": [
        "set_1 = {1,2,3,4,5}\n",
        "set_2 = {4,5,6,7,8}\n",
        "print(set_1)\n",
        "print(set_2)\n",
        "print('-'*10)\n",
        "\n",
        "print('Union: ',set_1.union(set_2))\n",
        "print('Intersection: ', set_1.intersection(set_2))\n",
        "print('Difference : ', set_1.difference(set_2))\n",
        "print('Symmetric Diff : ', set_1.symmetric_difference(set_2))\n",
        "print('-'*10)\n",
        "\n",
        "print('Union: ', set_2.union(set_1))\n",
        "print('Intersection: ', set_2.intersection(set_1))\n",
        "print('Difference : ', set_2.difference(set_1))\n",
        "print('Symmetric Diff : ', set_2.symmetric_difference(set_1))\n"
      ],
      "metadata": {
        "colab": {
          "base_uri": "https://localhost:8080/"
        },
        "id": "-yGX-Zvrr8e2",
        "outputId": "5418f987-8abf-4056-d72e-f710b31e9340"
      },
      "execution_count": 14,
      "outputs": [
        {
          "output_type": "stream",
          "name": "stdout",
          "text": [
            "{1, 2, 3, 4, 5}\n",
            "{4, 5, 6, 7, 8}\n",
            "----------\n",
            "Union:  {1, 2, 3, 4, 5, 6, 7, 8}\n",
            "Intersection:  {4, 5}\n",
            "Difference :  {1, 2, 3}\n",
            "Symmetric Diff :  {1, 2, 3, 6, 7, 8}\n",
            "----------\n",
            "Union:  {1, 2, 3, 4, 5, 6, 7, 8}\n",
            "Intersection:  {4, 5}\n",
            "Difference :  {8, 6, 7}\n",
            "Symmetric Diff :  {1, 2, 3, 6, 7, 8}\n"
          ]
        }
      ]
    },
    {
      "cell_type": "markdown",
      "source": [
        "#### 5.8.Clearing"
      ],
      "metadata": {
        "id": "fftf8UtTtVIX"
      }
    },
    {
      "cell_type": "code",
      "source": [
        "my_set = {1, 2, 3, 4, 5, 6}\n",
        "print(my_set)\n",
        "my_set.clear()\n",
        "print(my_set)"
      ],
      "metadata": {
        "colab": {
          "base_uri": "https://localhost:8080/"
        },
        "id": "Pc7rHHs2tYK8",
        "outputId": "80e2f9e0-640b-4df8-8c6c-cb6c6389ecda"
      },
      "execution_count": 15,
      "outputs": [
        {
          "output_type": "stream",
          "name": "stdout",
          "text": [
            "{1, 2, 3, 4, 5, 6}\n",
            "set()\n"
          ]
        }
      ]
    },
    {
      "cell_type": "markdown",
      "source": [
        "### 6.Tuple"
      ],
      "metadata": {
        "id": "e3g7z7p0tf24"
      }
    },
    {
      "cell_type": "markdown",
      "source": [
        "#### 6.1.Tuple Initialization"
      ],
      "metadata": {
        "id": "f45Mclhettqw"
      }
    },
    {
      "cell_type": "code",
      "source": [
        "tpl = (1,2,3,4,5)\n",
        "print(tpl)\n",
        "print(type(tpl))"
      ],
      "metadata": {
        "colab": {
          "base_uri": "https://localhost:8080/"
        },
        "id": "RRieXrdptzEo",
        "outputId": "87ae9efa-cd41-4d49-a4d7-451a59aabb47"
      },
      "execution_count": 16,
      "outputs": [
        {
          "output_type": "stream",
          "name": "stdout",
          "text": [
            "(1, 2, 3, 4, 5)\n",
            "<class 'tuple'>\n"
          ]
        }
      ]
    },
    {
      "cell_type": "markdown",
      "source": [
        "#### 6.2.Accessing"
      ],
      "metadata": {
        "id": "ZAwrM33at_Ah"
      }
    },
    {
      "cell_type": "code",
      "source": [
        "tpl = (1,2,3,4,5)\n",
        "print(tpl[0])\n",
        "print(tpl[2])"
      ],
      "metadata": {
        "colab": {
          "base_uri": "https://localhost:8080/"
        },
        "id": "qTGDLs8-uDXj",
        "outputId": "120ee892-c723-4b43-8077-345fb48b8e30"
      },
      "execution_count": 18,
      "outputs": [
        {
          "output_type": "stream",
          "name": "stdout",
          "text": [
            "1\n",
            "3\n"
          ]
        }
      ]
    },
    {
      "cell_type": "markdown",
      "source": [
        "#### 6.3.Slicing"
      ],
      "metadata": {
        "id": "J2-6Js7guNqp"
      }
    },
    {
      "cell_type": "code",
      "source": [
        "tpl = (1,2,3,4,5)\n",
        "print(tpl[1:3])"
      ],
      "metadata": {
        "colab": {
          "base_uri": "https://localhost:8080/"
        },
        "id": "4YIgCQTguRy1",
        "outputId": "f3d4b837-e170-4c74-a227-25abcd3d88e1"
      },
      "execution_count": 19,
      "outputs": [
        {
          "output_type": "stream",
          "name": "stdout",
          "text": [
            "(2, 3)\n"
          ]
        }
      ]
    },
    {
      "cell_type": "markdown",
      "source": [
        "#### 6.4.Concatenate"
      ],
      "metadata": {
        "id": "MU_VVzOQubkc"
      }
    },
    {
      "cell_type": "code",
      "source": [
        "tuple1 = (1, 2, 3)\n",
        "tuple2 = (4, 5, 6)\n",
        "\n",
        "result = tuple1 + tuple2\n",
        "print(\"result =\",result)\n"
      ],
      "metadata": {
        "colab": {
          "base_uri": "https://localhost:8080/"
        },
        "id": "JL2UhXnDuegs",
        "outputId": "f15f4e6b-82cb-47a6-a29c-83f0b8bb3be4"
      },
      "execution_count": 21,
      "outputs": [
        {
          "output_type": "stream",
          "name": "stdout",
          "text": [
            "result = (1, 2, 3, 4, 5, 6)\n"
          ]
        }
      ]
    }
  ]
}